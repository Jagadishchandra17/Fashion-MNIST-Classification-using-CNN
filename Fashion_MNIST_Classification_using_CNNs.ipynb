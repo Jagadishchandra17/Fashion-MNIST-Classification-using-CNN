{
  "cells": [
    {
      "cell_type": "markdown",
      "metadata": {
        "id": "view-in-github",
        "colab_type": "text"
      },
      "source": [
        "<a href=\"https://colab.research.google.com/github/Jagadishchandra17/Fashion-MNIST-Classification-using-CNN/blob/main/Fashion_MNIST_Classification_using_CNNs.ipynb\" target=\"_parent\"><img src=\"https://colab.research.google.com/assets/colab-badge.svg\" alt=\"Open In Colab\"/></a>"
      ]
    },
    {
      "cell_type": "markdown",
      "metadata": {
        "id": "a429zdAS8zBL"
      },
      "source": [
        "# **Fashion MNIST Classification Using Convolutional Neural Networks**\n"
      ]
    },
    {
      "cell_type": "markdown",
      "metadata": {
        "id": "MFP4gpXc8zBM"
      },
      "source": [
        "## Data Preparation"
      ]
    },
    {
      "cell_type": "code",
      "execution_count": null,
      "metadata": {
        "colab": {
          "base_uri": "https://localhost:8080/"
        },
        "id": "jsM0IILv8zBN",
        "outputId": "d4bc9a76-f79e-469d-b40c-848b7cb19116"
      },
      "outputs": [
        {
          "output_type": "execute_result",
          "data": {
            "text/plain": [
              "<torch._C.Generator at 0x7c17c99fd870>"
            ]
          },
          "metadata": {},
          "execution_count": 1
        }
      ],
      "source": [
        "# PyTorch Modules you need for this lab\n",
        "\n",
        "from torch.utils.data import Dataset, DataLoader\n",
        "\n",
        "from torchvision import transforms\n",
        "import torch\n",
        "import torch.nn as nn\n",
        "import torchvision\n",
        "import torchvision.transforms as transforms\n",
        "import torchvision.datasets as dsets\n",
        "torch.manual_seed(0)"
      ]
    },
    {
      "cell_type": "markdown",
      "metadata": {
        "id": "40ImiVwR8zBN"
      },
      "source": [
        "Import Non-PyTorch Modules\n"
      ]
    },
    {
      "cell_type": "code",
      "execution_count": null,
      "metadata": {
        "id": "43OE5DUr8zBN"
      },
      "outputs": [],
      "source": [
        "# Other non-PyTorch Modules\n",
        "\n",
        "from matplotlib.pyplot import imshow\n",
        "import matplotlib.pylab as plt\n",
        "\n",
        "from PIL import Image"
      ]
    },
    {
      "cell_type": "code",
      "execution_count": null,
      "metadata": {
        "id": "uzrjP97p8zBN"
      },
      "outputs": [],
      "source": [
        "def show_data(data_sample):\n",
        "    plt.imshow(data_sample[0].numpy().reshape(IMAGE_SIZE, IMAGE_SIZE), cmap='gray')\n",
        "    plt.title('y = '+ str(data_sample[1]))"
      ]
    },
    {
      "cell_type": "markdown",
      "metadata": {
        "id": "kTnavlO28zBN"
      },
      "source": [
        "## Creating a Dataset Class\n"
      ]
    },
    {
      "cell_type": "markdown",
      "metadata": {
        "id": "coUyEqoR8zBN"
      },
      "source": [
        "Use the Compose function to compose the transforms\n"
      ]
    },
    {
      "cell_type": "code",
      "execution_count": null,
      "metadata": {
        "id": "8H6xaQ0r8zBN"
      },
      "outputs": [],
      "source": [
        "\n",
        "\n",
        "IMAGE_SIZE = 16\n",
        "\n",
        "transforms.Resize((IMAGE_SIZE, IMAGE_SIZE)),\n",
        "transforms.ToTensor()#\n",
        "composed = transforms.Compose([transforms.Resize((IMAGE_SIZE, IMAGE_SIZE)), transforms.ToTensor()])"
      ]
    },
    {
      "cell_type": "code",
      "execution_count": null,
      "metadata": {
        "colab": {
          "base_uri": "https://localhost:8080/"
        },
        "id": "i-4mNv_z8zBN",
        "outputId": "264c84b9-2cae-4481-8d3d-992af08f5a23"
      },
      "outputs": [
        {
          "output_type": "stream",
          "name": "stderr",
          "text": [
            "100%|██████████| 26.4M/26.4M [00:01<00:00, 16.0MB/s]\n",
            "100%|██████████| 29.5k/29.5k [00:00<00:00, 268kB/s]\n",
            "100%|██████████| 4.42M/4.42M [00:00<00:00, 5.09MB/s]\n",
            "100%|██████████| 5.15k/5.15k [00:00<00:00, 16.1MB/s]\n"
          ]
        }
      ],
      "source": [
        "# Define the image size\n",
        "IMAGE_SIZE = 16\n",
        "\n",
        "# Compose the transformations (resize and convert to tensor)\n",
        "composed = transforms.Compose([\n",
        "    transforms.Resize((IMAGE_SIZE, IMAGE_SIZE)),  # Resize the image to 16x16\n",
        "    transforms.ToTensor()                         # Convert image to tensor\n",
        "])\n",
        "\n",
        "# Load the FashionMNIST dataset with transformations\n",
        "train_dataset = torchvision.datasets.FashionMNIST(\n",
        "    root='./data', train=True, download=True, transform=composed)\n",
        "test_dataset = torchvision.datasets.FashionMNIST(\n",
        "    root='./data', train=False, download=True, transform=composed)\n",
        "\n",
        "# Create DataLoader to load the data in batches\n",
        "train_loader = torch.utils.data.DataLoader(train_dataset, batch_size=64, shuffle=True)\n",
        "test_loader = torch.utils.data.DataLoader(test_dataset, batch_size=64, shuffle=False)"
      ]
    },
    {
      "cell_type": "code",
      "execution_count": null,
      "metadata": {
        "colab": {
          "base_uri": "https://localhost:8080/",
          "height": 219
        },
        "id": "7osOwP4c8zBO",
        "outputId": "367a093f-e3d7-4963-e9c3-cb258822d6af"
      },
      "outputs": [
        {
          "output_type": "display_data",
          "data": {
            "text/plain": [
              "<Figure size 1200x600 with 5 Axes>"
            ],
            "image/png": "[encoded data removed]"
          },
          "metadata": {}
        }
      ],
      "source": [
        "import matplotlib.pyplot as plt\n",
        "import numpy as np\n",
        "\n",
        "# Get a batch of data from the DataLoader\n",
        "data_iter = iter(test_loader)\n",
        "images, labels = next(data_iter)\n",
        "\n",
        "# Convert tensor to numpy for visualization\n",
        "images = images.numpy()\n",
        "\n",
        "# Plot a few images\n",
        "fig, axes = plt.subplots(1, 5, figsize=(12, 6))\n",
        "for i in range(5):\n",
        "    axes[i].imshow(np.transpose(images[i], (1, 2, 0)), cmap='gray')\n",
        "    axes[i].set_title(f\"Label: {labels[i].item()}\")\n",
        "    axes[i].axis('off')\n",
        "\n",
        "plt.show()\n"
      ]
    },
    {
      "cell_type": "markdown",
      "metadata": {
        "id": "xWeFdKjo8zBO"
      },
      "source": [
        "Create two dataset objects for the Fashion MNIST  dataset. One for training data called <code> dataset_train </code> and one for validation data <code>dataset_val</code>. You will be asked to take a screenshot of several samples.\n"
      ]
    },
    {
      "cell_type": "markdown",
      "metadata": {
        "id": "rBDybciF8zBO"
      },
      "source": [
        "<b>Hint:</b>\n",
        "<code>dsets.FashionMNIST(root= '.fashion/data', train=???, transform=composed,  download=True)</code>\n"
      ]
    },
    {
      "cell_type": "code",
      "execution_count": null,
      "metadata": {
        "colab": {
          "base_uri": "https://localhost:8080/"
        },
        "id": "BcPog_OX8zBO",
        "outputId": "55e5d8e6-2283-4b05-8126-8a50f4240edf"
      },
      "outputs": [
        {
          "output_type": "stream",
          "name": "stderr",
          "text": [
            "100%|██████████| 26.4M/26.4M [00:01<00:00, 18.1MB/s]\n",
            "100%|██████████| 29.5k/29.5k [00:00<00:00, 271kB/s]\n",
            "100%|██████████| 4.42M/4.42M [00:00<00:00, 4.97MB/s]\n",
            "100%|██████████| 5.15k/5.15k [00:00<00:00, 8.55MB/s]"
          ]
        },
        {
          "output_type": "stream",
          "name": "stdout",
          "text": [
            "Training dataset size: 60000\n",
            "Validation dataset size: 10000\n"
          ]
        },
        {
          "output_type": "stream",
          "name": "stderr",
          "text": [
            "\n"
          ]
        }
      ],
      "source": [
        "# Enter your code here\n",
        "import torch\n",
        "from torchvision import datasets, transforms\n",
        "\n",
        "# Define the image size and transformation pipeline\n",
        "IMAGE_SIZE = 16\n",
        "composed = transforms.Compose([\n",
        "    transforms.Resize((IMAGE_SIZE, IMAGE_SIZE)),\n",
        "    transforms.ToTensor()\n",
        "])\n",
        "\n",
        "# Create the training and validation datasets\n",
        "dataset_train = datasets.FashionMNIST(\n",
        "    root='./fashion/data',\n",
        "    train=True,  # This will load the training dataset\n",
        "    transform=composed,\n",
        "    download=True\n",
        ")\n",
        "\n",
        "dataset_val = datasets.FashionMNIST(\n",
        "    root='./fashion/data',\n",
        "    train=False,  # This will load the validation dataset\n",
        "    transform=composed,\n",
        "    download=True\n",
        ")\n",
        "\n",
        "# Print the size of each dataset to ensure everything is loaded correctly\n",
        "print(f'Training dataset size: {len(dataset_train)}')\n",
        "print(f'Validation dataset size: {len(dataset_val)}')"
      ]
    },
    {
      "cell_type": "code",
      "execution_count": null,
      "metadata": {
        "colab": {
          "base_uri": "https://localhost:8080/",
          "height": 1000
        },
        "id": "gL-PO04x8zBO",
        "outputId": "4248c245-4bdd-4c25-b589-bc96f993d372"
      },
      "outputs": [
        {
          "output_type": "display_data",
          "data": {
            "text/plain": [
              "<Figure size 640x480 with 1 Axes>"
            ],
            "image/png": "[encoded data removed]"
          },
          "metadata": {}
        },
        {
          "output_type": "display_data",
          "data": {
            "text/plain": [
              "<Figure size 640x480 with 1 Axes>"
            ],
            "image/png": "[encoded data removed]"
          },
          "metadata": {}
        },
        {
          "output_type": "display_data",
          "data": {
            "text/plain": [
              "<Figure size 640x480 with 1 Axes>"
            ],
            "image/png": "[encoded data removed]"
          },
          "metadata": {}
        }
      ],
      "source": [
        "for n,data_sample in enumerate(dataset_val):\n",
        "\n",
        "    show_data(data_sample)\n",
        "    plt.show()\n",
        "    if n==2:\n",
        "        break"
      ]
    },
    {
      "cell_type": "markdown",
      "metadata": {
        "id": "Rs8q7xlE8zBO"
      },
      "source": [
        "\n",
        "Creating a Convolutional Neural Network class using some constructors.\n"
      ]
    },
    {
      "cell_type": "markdown",
      "metadata": {
        "id": "NGxvVa3h8zBO"
      },
      "source": [
        "## Constructor  using Batch Norm\n"
      ]
    },
    {
      "cell_type": "code",
      "execution_count": null,
      "metadata": {
        "id": "SFpR5Vtz8zBO"
      },
      "outputs": [],
      "source": [
        "class CNN_batch(nn.Module):\n",
        "\n",
        "    # Constructor\n",
        "    def __init__(self, out_1=16, out_2=32,number_of_classes=10):\n",
        "        super(CNN_batch, self).__init__()\n",
        "        self.cnn1 = nn.Conv2d(in_channels=1, out_channels=out_1, kernel_size=5, padding=2)\n",
        "        self.conv1_bn = nn.BatchNorm2d(out_1)\n",
        "\n",
        "        self.maxpool1=nn.MaxPool2d(kernel_size=2)\n",
        "\n",
        "        self.cnn2 = nn.Conv2d(in_channels=out_1, out_channels=out_2, kernel_size=5, stride=1, padding=2)\n",
        "        self.conv2_bn = nn.BatchNorm2d(out_2)\n",
        "\n",
        "        self.maxpool2=nn.MaxPool2d(kernel_size=2)\n",
        "        self.fc1 = nn.Linear(out_2 * 4 * 4, number_of_classes)\n",
        "        self.bn_fc1 = nn.BatchNorm1d(10)\n",
        "\n",
        "    # Prediction\n",
        "    def forward(self, x):\n",
        "        x = self.cnn1(x)\n",
        "        x=self.conv1_bn(x)\n",
        "        x = torch.relu(x)\n",
        "        x = self.maxpool1(x)\n",
        "        x = self.cnn2(x)\n",
        "        x=self.conv2_bn(x)\n",
        "        x = torch.relu(x)\n",
        "        x = self.maxpool2(x)\n",
        "        x = x.view(x.size(0), -1)\n",
        "        x = self.fc1(x)\n",
        "        x=self.bn_fc1(x)\n",
        "        return x"
      ]
    },
    {
      "cell_type": "markdown",
      "metadata": {
        "id": "2q2Qa0xV8zBO"
      },
      "source": [
        "train loader  and validation loader\n"
      ]
    },
    {
      "cell_type": "code",
      "execution_count": null,
      "metadata": {
        "id": "5urUwDG78zBO"
      },
      "outputs": [],
      "source": [
        "train_loader = torch.utils.data.DataLoader(dataset=dataset_train, batch_size=100 )\n",
        "test_loader = torch.utils.data.DataLoader(dataset=dataset_val, batch_size=100 )"
      ]
    },
    {
      "cell_type": "markdown",
      "metadata": {
        "id": "U36gfAVz8zBP"
      },
      "source": [
        "Convolutional Neural Network object\n"
      ]
    },
    {
      "cell_type": "code",
      "execution_count": null,
      "metadata": {
        "id": "1vOB00VU8zBP"
      },
      "outputs": [],
      "source": [
        "import torch.optim as optim\n",
        "\n",
        "# Initialize the model, loss function (criterion), and optimizer\n",
        "model = CNN_batch(out_1=16, out_2=32, number_of_classes=10)\n",
        "criterion = nn.CrossEntropyLoss()  # Cross entropy loss for classification\n",
        "optimizer = optim.SGD(model.parameters(), lr=0.1)"
      ]
    },
    {
      "cell_type": "markdown",
      "metadata": {
        "id": "gDCszjgn8zBP"
      },
      "source": [
        "Create the objects for the criterion and the optimizer named <code>criterion</code> and <code>optimizer</code>. Make the optimizer use SGD with a learning rate of 0.1 and the optimizer use Cross Entropy Loss\n"
      ]
    },
    {
      "cell_type": "code",
      "execution_count": null,
      "metadata": {
        "colab": {
          "base_uri": "https://localhost:8080/"
        },
        "id": "uk5xJxSC8zBP",
        "outputId": "9189b44c-0e63-472b-eebc-a104616f75ab"
      },
      "outputs": [
        {
          "output_type": "stream",
          "name": "stdout",
          "text": [
            "Epoch [1/5], Train Loss: 0.4949, Train Accuracy: 84.81%\n",
            "Epoch [2/5], Train Loss: 0.3461, Train Accuracy: 88.32%\n",
            "Epoch [3/5], Train Loss: 0.3092, Train Accuracy: 89.36%\n",
            "Epoch [4/5], Train Loss: 0.2864, Train Accuracy: 90.12%\n",
            "Epoch [5/5], Train Loss: 0.2700, Train Accuracy: 90.60%\n",
            "Validation Accuracy: 87.27%\n"
          ]
        }
      ],
      "source": [
        "# Training loop\n",
        "num_epochs = 5\n",
        "for epoch in range(num_epochs):\n",
        "    model.train()  # Set the model to training mode\n",
        "    running_loss = 0.0\n",
        "    correct = 0\n",
        "    total = 0\n",
        "\n",
        "    for inputs, labels in train_loader:  # Iterating through the training data\n",
        "        optimizer.zero_grad()  # Zero the gradients\n",
        "\n",
        "        # Forward pass\n",
        "        outputs = model(inputs)  # Pass the input through the model\n",
        "\n",
        "        # Compute the loss\n",
        "        loss = criterion(outputs, labels)  # Calculate the cross-entropy loss\n",
        "\n",
        "        # Backpropagation\n",
        "        loss.backward()  # Backpropagate the gradients\n",
        "        optimizer.step()  # Update the model's weights using the optimizer\n",
        "\n",
        "        running_loss += loss.item()  # Accumulate the loss for logging\n",
        "\n",
        "        # Calculate accuracy\n",
        "        _, predicted = torch.max(outputs, 1)  # Get the predicted class\n",
        "        total += labels.size(0)  # Count the total number of samples\n",
        "        correct += (predicted == labels).sum().item()  # Count correct predictions\n",
        "\n",
        "    # Print stats for each epoch\n",
        "    train_loss = running_loss / len(train_loader)\n",
        "    train_accuracy = 100 * correct / total\n",
        "    print(f\"Epoch [{epoch+1}/{num_epochs}], Train Loss: {train_loss:.4f}, Train Accuracy: {train_accuracy:.2f}%\")\n",
        "\n",
        "# After training, evaluate the model on the validation set\n",
        "model.eval()  # Set the model to evaluation mode\n",
        "correct = 0\n",
        "total = 0\n",
        "with torch.no_grad():  # Disable gradient computation for evaluation\n",
        "    for inputs, labels in test_loader:\n",
        "        outputs = model(inputs)  # Forward pass\n",
        "        _, predicted = torch.max(outputs, 1)  # Get the predicted class\n",
        "        total += labels.size(0)\n",
        "        correct += (predicted == labels).sum().item()\n",
        "\n",
        "validation_accuracy = 100 * correct / total\n",
        "print(f\"Validation Accuracy: {validation_accuracy:.2f}%\")"
      ]
    },
    {
      "cell_type": "markdown",
      "source": [
        "## Training the model"
      ],
      "metadata": {
        "id": "bahT_U3jBVmu"
      }
    },
    {
      "cell_type": "code",
      "execution_count": null,
      "metadata": {
        "id": "P0Behj9g8zBP"
      },
      "outputs": [],
      "source": [
        "import time\n",
        "start_time = time.time()\n",
        "\n",
        "cost_list=[]\n",
        "accuracy_list=[]\n",
        "N_test=len(dataset_val)\n",
        "n_epochs=5\n",
        "for epoch in range(n_epochs):\n",
        "    cost=0\n",
        "    model.train()\n",
        "    for x, y in train_loader:\n",
        "        optimizer.zero_grad()\n",
        "        z = model(x)\n",
        "        loss = criterion(z, y)\n",
        "        loss.backward()\n",
        "        optimizer.step()\n",
        "        cost+=loss.item()\n",
        "    correct=0\n",
        "    #perform a prediction on the validation  data\n",
        "    model.eval()\n",
        "    for x_test, y_test in test_loader:\n",
        "        z = model(x_test)\n",
        "        _, yhat = torch.max(z.data, 1)\n",
        "        correct += (yhat == y_test).sum().item()\n",
        "    accuracy = correct / N_test\n",
        "    accuracy_list.append(accuracy)\n",
        "    cost_list.append(cost)\n"
      ]
    },
    {
      "cell_type": "markdown",
      "metadata": {
        "id": "LVw9Wtot8zBP"
      },
      "source": [
        "## Visualization"
      ]
    },
    {
      "cell_type": "code",
      "execution_count": null,
      "metadata": {
        "colab": {
          "base_uri": "https://localhost:8080/",
          "height": 486
        },
        "id": "2bU2Et-l8zBP",
        "outputId": "a4cac2f5-b7e6-43da-a935-0b894a0093df"
      },
      "outputs": [
        {
          "output_type": "display_data",
          "data": {
            "text/plain": [
              "<Figure size 640x480 with 2 Axes>"
            ],
            "image/png": "[encoded data removed]"
          },
          "metadata": {}
        }
      ],
      "source": [
        "fig, ax1 = plt.subplots()\n",
        "color = 'tab:red'\n",
        "ax1.plot(cost_list, color=color)\n",
        "ax1.set_xlabel('epoch', color=color)\n",
        "ax1.set_ylabel('Cost', color=color)\n",
        "ax1.tick_params(axis='y', color=color)\n",
        "\n",
        "ax2 = ax1.twinx()\n",
        "color = 'tab:blue'\n",
        "ax2.set_ylabel('accuracy', color=color)\n",
        "ax2.set_xlabel('epoch', color=color)\n",
        "ax2.plot( accuracy_list, color=color)\n",
        "ax2.tick_params(axis='y', color=color)\n",
        "fig.tight_layout()"
      ]
    },
    {
      "cell_type": "markdown",
      "metadata": {
        "id": "RhXBHFX18zBQ"
      },
      "source": [
        "dataset: https://github.com/zalandoresearch/fashion-mnist\n"
      ]
    }
  ],
  "metadata": {
    "kernelspec": {
      "display_name": "Python 3 (ipykernel)",
      "language": "python",
      "name": "python3"
    },
    "language_info": {
      "codemirror_mode": {
        "name": "ipython",
        "version": 3
      },
      "file_extension": ".py",
      "mimetype": "text/x-python",
      "name": "python",
      "nbconvert_exporter": "python",
      "pygments_lexer": "ipython3",
      "version": "3.12.8"
    },
    "prev_pub_hash": "ef24d84c350357e48951893484e30e92fc841b44adcd233bbf4974eeec12d4f0",
    "colab": {
      "provenance": [],
      "include_colab_link": true
    }
  },
  "nbformat": 4,
  "nbformat_minor": 0
}